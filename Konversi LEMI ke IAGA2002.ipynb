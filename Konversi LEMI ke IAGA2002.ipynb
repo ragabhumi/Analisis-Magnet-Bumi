{
 "cells": [
  {
   "cell_type": "markdown",
   "id": "44a029c6-796e-44c9-bee4-c9a48687deba",
   "metadata": {},
   "source": [
    "Konversi LEMI ke IAGA2002"
   ]
  },
  {
   "cell_type": "code",
   "execution_count": 1,
   "id": "1cb0d97f-a3de-4efd-a0eb-0452e06f0410",
   "metadata": {},
   "outputs": [],
   "source": [
    "from datetime import timedelta,datetime\n",
    "import pandas as pd\n",
    "from scipy import signal\n",
    "import math\n",
    "import numpy as np"
   ]
  },
  {
   "cell_type": "markdown",
   "id": "c998adf4-1b5f-45fd-aadb-462fdb7d4425",
   "metadata": {},
   "source": [
    "Koefisien Gauss filter untuk data 1 detik"
   ]
  },
  {
   "cell_type": "code",
   "execution_count": 2,
   "id": "16f8c989-2587-4b4a-973c-2be9e7a7c3cc",
   "metadata": {},
   "outputs": [],
   "source": [
    "gauss_1s = [0.00045933, 0.00054772, 0.00065055, 0.00076964, 0.00090693,\n",
    "        0.00106449, 0.00124449, 0.00144918, 0.00168089, 0.00194194, 0.00223468,\n",
    "        0.00256140, 0.00292430, 0.00332543, 0.00376666, 0.00424959, 0.00477552,\n",
    "        0.00534535, 0.00595955, 0.00661811, 0.00732042, 0.00806530, 0.00885090,\n",
    "        0.00967467, 0.01053338, 0.01142303, 0.01233892, 0.01327563, 0.01422707,\n",
    "        0.01518651, 0.01614667, 0.01709976, 0.01803763, 0.01895183, 0.01983377,\n",
    "        0.02067480, 0.02146643, 0.02220039, 0.02286881, 0.02346437, 0.02398040,\n",
    "        0.02441104, 0.02475132, 0.02499727, 0.02514602, 0.02519580, 0.02514602,\n",
    "        0.02499727, 0.02475132, 0.02441104, 0.02398040, 0.02346437, 0.02286881,\n",
    "        0.02220039, 0.02146643, 0.02067480, 0.01983377, 0.01895183, 0.01803763,\n",
    "        0.01709976, 0.01614667, 0.01518651, 0.01422707, 0.01327563, 0.01233892,\n",
    "        0.01142303, 0.01053338, 0.00967467, 0.00885090, 0.00806530, 0.00732042,\n",
    "        0.00661811, 0.00595955, 0.00534535, 0.00477552, 0.00424959, 0.00376666,\n",
    "        0.00332543, 0.00292430, 0.00256140, 0.00223468, 0.00194194, 0.00168089,\n",
    "        0.00144918, 0.00124449, 0.00106449, 0.00090693, 0.00076964, 0.00065055,\n",
    "        0.00054772, 0.00045933]"
   ]
  },
  {
   "cell_type": "markdown",
   "id": "a1e35ca5-4ab3-473e-ae28-d5455b43de0e",
   "metadata": {},
   "source": [
    "Koefisien Gauss untuk data 10 detik"
   ]
  },
  {
   "cell_type": "code",
   "execution_count": 3,
   "id": "5370c5f8-6f27-4eca-a33c-f7dec2373a00",
   "metadata": {},
   "outputs": [],
   "source": [
    "gauss_10s = [0.00178860, 0.01060471, 0.04233562, 0.11379931, 0.20596804,\n",
    "             0.25100743, 0.20596804, 0.11379931, 0.04233562, 0.01060471,\n",
    "             0.00178860]"
   ]
  },
  {
   "cell_type": "markdown",
   "id": "ba5f504d-44d4-4112-9fd7-3ced11193fbd",
   "metadata": {},
   "source": [
    "Fungsi untuk edit header IAGA-2002"
   ]
  },
  {
   "cell_type": "code",
   "execution_count": 4,
   "id": "bf941047-ba18-4261-b6bf-8776e1e841b3",
   "metadata": {},
   "outputs": [],
   "source": [
    "def split(word):\n",
    "\treturn [char for char in word]\n",
    "\n",
    "def header(variable):\n",
    "    staname_init = list(np.tile(' ',45))\n",
    "    data_out = split(variable)\n",
    "    for i in range(len(data_out)): staname_init[i]=data_out[i]\n",
    "    station = ''.join(staname_init)\n",
    "    return station"
   ]
  },
  {
   "cell_type": "markdown",
   "id": "598bc63d-edbf-4f63-8783-207c0fce1320",
   "metadata": {},
   "source": [
    "Parameter stasiun"
   ]
  },
  {
   "cell_type": "code",
   "execution_count": 5,
   "id": "a7503143-e625-4f1f-b288-3e9cdbbe2f5b",
   "metadata": {},
   "outputs": [],
   "source": [
    "# Parameter stasiun\n",
    "nama_station = 'Tuntungan'\n",
    "kode_IAGA = 'TUN'\n",
    "latitude = '03 30 01.4 N'\n",
    "longitude = '98 33 51.6 E'\n",
    "elevation = '86'"
   ]
  },
  {
   "cell_type": "markdown",
   "id": "9001a709-5303-43c0-8800-6a1e862382e8",
   "metadata": {},
   "source": [
    "Input data"
   ]
  },
  {
   "cell_type": "code",
   "execution_count": 6,
   "id": "22e1109f-6fcc-4079-8328-e12c3750c9ff",
   "metadata": {},
   "outputs": [],
   "source": [
    "folder = 'data'\n",
    "file1 = 'tuntungan_lemi_raw_20210430.txt'\n",
    "file2 = 'tuntungan_lemi_raw_20210501.txt'\n",
    "proton1 = 'tuntungan_proton_raw_20210430.120'\n",
    "proton2 = 'tuntungan_proton_raw_20210501.121'"
   ]
  },
  {
   "cell_type": "markdown",
   "id": "dc0ff80c-3749-40f4-a173-1f0c9f3b14f2",
   "metadata": {},
   "source": [
    "Fungsi untuk membaca data LEMI"
   ]
  },
  {
   "cell_type": "code",
   "execution_count": 7,
   "id": "53118d8f-ff1b-4934-9a8c-a22d464d12cc",
   "metadata": {},
   "outputs": [],
   "source": [
    "def read_lemi(filename):\n",
    "    # Read data lemi\n",
    "    df = pd.read_csv(filename, sep='\\s+', names=['year', 'month', 'day', 'hour', 'minute', 'second', 'Bx', 'By', 'Bz', 'Te', 'Tf', 'A', 'N', 'FL', 'int'])\n",
    "    # Set date time column\n",
    "    df['date'] = pd.to_datetime(df[['year', 'month', 'day', 'hour', 'minute', 'second']])\n",
    "    # Select important data only\n",
    "    df = df[['date', 'Bx', 'By', 'Bz', 'Te', 'Tf']]\n",
    "    # Set date time as index\n",
    "    df = df.set_index('date')\n",
    "    \n",
    "    return df"
   ]
  },
  {
   "cell_type": "markdown",
   "id": "c796062c-9655-4fe3-a548-e1ba3646f06d",
   "metadata": {},
   "source": [
    "Fungsi untuk membaca data proton"
   ]
  },
  {
   "cell_type": "code",
   "execution_count": 8,
   "id": "8938d7a2-e6cd-455d-b154-e1b2152a2e9b",
   "metadata": {},
   "outputs": [],
   "source": [
    "def read_proton(filename):\n",
    "    # Read data proton\n",
    "    df = pd.read_csv(filename, sep=\"\\s+|:\", engine='python', decimal=',', names=['proton', 'id', 'id2', 'date', 'hour', 'minute', 'second'])\n",
    "    # Set date time column\n",
    "    df['date'] = pd.to_datetime(df['date'], format=\"%m.%d.%y\")\n",
    "    df['date'] = df['date'] + pd.to_timedelta(df['hour'], unit='h')\n",
    "    df['date'] = df['date'] + pd.to_timedelta(df['minute'], unit='m')\n",
    "    df['date'] = df['date'] + pd.to_timedelta(df['second'], unit='s')\n",
    "    # Bagi proton dengan 1000\n",
    "    df['Bf'] = df['proton']/1000\n",
    "    # Select important data only\n",
    "    df = df[['date', 'Bf']]\n",
    "    # Set date time as index\n",
    "    df = df.set_index('date')\n",
    "    # Remove zero value\n",
    "    df = df[df['Bf'] != 0]\n",
    "    \n",
    "    return df"
   ]
  },
  {
   "cell_type": "markdown",
   "id": "8fcc27fb-49d4-427c-a825-3f0adbf023ba",
   "metadata": {},
   "source": [
    "Fungsi untuk konversi data LEMI"
   ]
  },
  {
   "cell_type": "code",
   "execution_count": 9,
   "id": "eb536ae1-5ebe-452f-baf2-7d8cb69c6989",
   "metadata": {},
   "outputs": [],
   "source": [
    "def gauss_filter_1s(df, comp):\n",
    "    if comp == 'X':\n",
    "        data_comp = df['Bx']\n",
    "    elif comp =='Y':\n",
    "        data_comp = df['By']\n",
    "    elif comp == 'Z':\n",
    "        data_comp = df['Bz']\n",
    "        \n",
    "    # Convert to 1 minute value using gaussian filter\n",
    "    out = [0]*1440\n",
    "    for i in range(0, 1440):\n",
    "        num_of_points = 0\n",
    "        result = 0\n",
    "        filter_sum = 0\n",
    "        data = data_comp.iloc[86355+(60*i):86446+(60*i)]\n",
    "        for j in range(0, 91):\n",
    "            if math.isnan(data.iloc[j]) == False:\n",
    "                result += data[j]*gauss_1s[j]\n",
    "                filter_sum += gauss_1s[j]\n",
    "                num_of_points += 1\n",
    "    \n",
    "        if num_of_points >= 0.9*91:\n",
    "            out[i] = result/filter_sum\n",
    "        else:\n",
    "            out[i] = np.nan\n",
    "            \n",
    "    return out"
   ]
  },
  {
   "cell_type": "markdown",
   "id": "1bb5bfcf-1695-458d-b77b-d294ee7c360b",
   "metadata": {},
   "source": [
    "Fungsi untuk konversi data proton"
   ]
  },
  {
   "cell_type": "code",
   "execution_count": 10,
   "id": "3d1776f6-fad8-4741-ae71-a41e6834fd23",
   "metadata": {},
   "outputs": [],
   "source": [
    "def gauss_filter_10s(df):\n",
    "    data_comp = df['Bf']\n",
    "    # Convert to 1 minute value using gaussian filter\n",
    "    out = [0]*1440\n",
    "    for i in range(0, 1440):\n",
    "        num_of_points = 0\n",
    "        result = 0\n",
    "        filter_sum = 0\n",
    "        data = data_comp.iloc[8635+(6*i):8646+(6*i)]\n",
    "        for j in range(0, 11):\n",
    "            if math.isnan(data.iloc[j]) == False:\n",
    "                result += data[j]*gauss_10s[j]\n",
    "                filter_sum += gauss_10s[j]\n",
    "                num_of_points += 1    \n",
    "\n",
    "        if num_of_points >= 0.9*11:\n",
    "            out[i] = result/filter_sum\n",
    "        else:\n",
    "            out[i] = np.nan\n",
    "            \n",
    "    return out"
   ]
  },
  {
   "cell_type": "markdown",
   "id": "f25a15d4-18b5-4515-a938-7a0bad748101",
   "metadata": {},
   "source": [
    "Baca data"
   ]
  },
  {
   "cell_type": "code",
   "execution_count": 11,
   "id": "8b2656b2-4040-4a10-9993-b21082eb4338",
   "metadata": {},
   "outputs": [],
   "source": [
    "lemi1 = read_lemi(folder + '/'+ file1)\n",
    "lemi2 = read_lemi(folder + '/'+ file2)\n",
    "proton1 = read_proton(folder + '/'+ proton1)\n",
    "proton2 = read_proton(folder + '/'+ proton2)"
   ]
  },
  {
   "cell_type": "markdown",
   "id": "a433fc3c-e5cc-4327-bcbe-9615d0adff60",
   "metadata": {},
   "source": [
    "Tandai data kosong"
   ]
  },
  {
   "cell_type": "code",
   "execution_count": 12,
   "id": "f263df9f-c477-436d-b533-42dfa3a60f64",
   "metadata": {},
   "outputs": [],
   "source": [
    "lemi1 = lemi1.resample('1S').asfreq().reset_index()\n",
    "lemi2 = lemi2.resample('1S').asfreq().reset_index()\n",
    "proton1 = proton1.resample('10S').asfreq().reset_index()\n",
    "proton2 = proton2.resample('10S').asfreq().reset_index()"
   ]
  },
  {
   "cell_type": "markdown",
   "id": "ef8e7d81-0446-4328-ab3b-6fa006b7904b",
   "metadata": {},
   "source": [
    "Gabungkan data lemi dan proton"
   ]
  },
  {
   "cell_type": "code",
   "execution_count": 13,
   "id": "4d3b13dd-e36b-4fad-848d-2068a3ffeb2f",
   "metadata": {},
   "outputs": [],
   "source": [
    "lemi = pd.concat([lemi1, lemi2]).set_index('date')\n",
    "proton = pd.concat([proton1, proton2]).set_index('date')"
   ]
  },
  {
   "cell_type": "markdown",
   "id": "cbdec52c-2eb1-4582-b253-4a5d5cfc694d",
   "metadata": {},
   "source": [
    "Konversi ke 1 menit dengan gaussian filter"
   ]
  },
  {
   "cell_type": "code",
   "execution_count": 14,
   "id": "a579ddf6-a834-4908-99c6-effa1e3825f2",
   "metadata": {},
   "outputs": [],
   "source": [
    "X_1m = np.array(gauss_filter_1s(lemi, 'X'))\n",
    "Y_1m = np.array(gauss_filter_1s(lemi, 'Y'))\n",
    "Z_1m = np.array(gauss_filter_1s(lemi, 'Z'))\n",
    "F_1m = np.array(gauss_filter_10s(proton))\n",
    "H_1m = np.sqrt(np.array(X_1m)**2+np.array(Y_1m)**2)\n",
    "D_1m = 60*np.degrees(np.arcsin(Y_1m/H_1m)) "
   ]
  },
  {
   "cell_type": "markdown",
   "id": "8cfc4516-9acb-465f-ab5f-8850a92b97fe",
   "metadata": {},
   "source": [
    "Isi missing data dengan nilai 99999"
   ]
  },
  {
   "cell_type": "code",
   "execution_count": 15,
   "id": "7c553945-c690-4b4e-b8f2-d88543b93193",
   "metadata": {},
   "outputs": [],
   "source": [
    "X_1m[np.isnan(X_1m)] = 99999\n",
    "Y_1m[np.isnan(Y_1m)] = 99999\n",
    "Z_1m[np.isnan(Z_1m)] = 99999\n",
    "F_1m[np.isnan(F_1m)] = 99999\n",
    "H_1m[np.isnan(H_1m)] = 99999\n",
    "D_1m[np.isnan(D_1m)] = 99999"
   ]
  },
  {
   "cell_type": "markdown",
   "id": "77b5a9ae-f52d-482d-86a6-3b463bb1804a",
   "metadata": {},
   "source": [
    "Simpan ke IAGA2002"
   ]
  },
  {
   "cell_type": "code",
   "execution_count": 16,
   "id": "e78d741a-c71e-4e2c-a86f-c18d5f75ad39",
   "metadata": {},
   "outputs": [],
   "source": [
    "# Simpan ke IAGA2002\n",
    "fileout = kode_IAGA+str(lemi.index[-1].year)+str(lemi.index[-1].month).zfill(2)+str(lemi.index[-1].day).zfill(2)+'vmin'+'.min'\n",
    "f_iaga = open('out/' + fileout, 'w')\n",
    "\n",
    "f_iaga.write(' Format                 IAGA-2002                                    |\\n')\n",
    "f_iaga.write(' Source of Data         BMKG                                         |\\n')\n",
    "f_iaga.write(' Station Name           %s|\\n' %header(nama_station))\n",
    "f_iaga.write(' IAGA Code              %s|\\n' %header(kode_IAGA))\n",
    "f_iaga.write(' Geodetic Latitude      %s|\\n' %header(latitude))\n",
    "f_iaga.write(' Geodetic Longitude     %s|\\n' %header(longitude))\n",
    "f_iaga.write(' Elevation              %s|\\n' %header(elevation))\n",
    "f_iaga.write(' Reported               DHZF                                         |\\n')\n",
    "f_iaga.write(' Sensor Orientation     XYZ                                          |\\n')\n",
    "f_iaga.write(' Digital Sampling       1 second                                     |\\n')\n",
    "f_iaga.write(' Data Interval Type     Filtered 1-minute (00:15-01:45)              |\\n')\n",
    "f_iaga.write(' Data Type              variation                                    |\\n')\n",
    "f_iaga.write('DATE       TIME         DOY     %sD      %sH      %sZ      %sF   |\\n' %(kode_IAGA, kode_IAGA, kode_IAGA, kode_IAGA))\n",
    "\n",
    "for i in range(0, 1440):\n",
    "    body_iaga = '%s    %9.2f %9.2f %9.2f %9.2f\\n' %((datetime(year=int(lemi.index[-1].year),month=int(lemi.index[-1].month),day=int(lemi.index[-1].day))+timedelta(minutes=i)).strftime(\"%Y-%m-%d %H:%M:00.000 %j\"), D_1m[i], H_1m[i], Z_1m[i], F_1m[i])\n",
    "    f_iaga.write(body_iaga)\n",
    "f_iaga.close()"
   ]
  }
 ],
 "metadata": {
  "kernelspec": {
   "display_name": "Python 3",
   "language": "python",
   "name": "python3"
  },
  "language_info": {
   "codemirror_mode": {
    "name": "ipython",
    "version": 3
   },
   "file_extension": ".py",
   "mimetype": "text/x-python",
   "name": "python",
   "nbconvert_exporter": "python",
   "pygments_lexer": "ipython3",
   "version": "3.7.10"
  }
 },
 "nbformat": 4,
 "nbformat_minor": 5
}
