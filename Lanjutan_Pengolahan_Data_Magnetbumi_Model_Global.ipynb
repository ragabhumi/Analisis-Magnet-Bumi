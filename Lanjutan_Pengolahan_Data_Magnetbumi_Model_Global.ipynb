{
  "nbformat": 4,
  "nbformat_minor": 0,
  "metadata": {
    "colab": {
      "provenance": [],
      "include_colab_link": true
    },
    "kernelspec": {
      "name": "python3",
      "display_name": "Python 3"
    },
    "language_info": {
      "name": "python"
    }
  },
  "cells": [
    {
      "cell_type": "markdown",
      "metadata": {
        "id": "view-in-github",
        "colab_type": "text"
      },
      "source": [
        "<a href=\"https://colab.research.google.com/github/ragabhumi/Analisis-Magnet-Bumi/blob/main/Lanjutan_Pengolahan_Data_Magnetbumi_Model_Global.ipynb\" target=\"_parent\"><img src=\"https://colab.research.google.com/assets/colab-badge.svg\" alt=\"Open In Colab\"/></a>"
      ]
    },
    {
      "cell_type": "markdown",
      "source": [
        "**PEMODELAN DATA MAGNET BUMI - 2024**\n",
        "\n",
        "**Pengolahan Data Magnet Bumi menggunakan Data Model Global**\n",
        "\n",
        "oleh: Yosi Setiawan\n",
        "\n",
        "Tangerang Selatan, 5 Mei 2024"
      ],
      "metadata": {
        "id": "8bkF248TbZKA"
      }
    },
    {
      "cell_type": "markdown",
      "source": [
        "Pada praktik pengolahan data magnet bumi ini, software yang digunakan adalah Fatiando a Terra (Uieda et.al., 2013) untuk analisis data magnet bumi, dan PyGMT (Uieda et.al., 2023) untuk visualisasi yang keduanya berbasis Python. Pengolahan dilakukan di Google Colab untuk memudahkan akses terhadap program dan data yang digunakan tanpa harus menginstall di komputer atau laptop masing-masing peserta.\n",
        "\n",
        "Pada bagian ini, data yang akan digunakan adalah **data model magnet bumi EMAG2v3**."
      ],
      "metadata": {
        "id": "U2QWzpb0b38O"
      }
    },
    {
      "cell_type": "markdown",
      "source": [
        "Langkah pertama yang harus dilakukan adalah menginstal CondaColab di Google Colab di akun Google masing-masing. Tekan tombol **Run cell** di sebelah kiri setiap cell atau tekan tombol Ctrl+Enter. Tunggu hingga proses instalasi selesai. Jika muncul notifikasi **Your session crashed for an unknown reason.**, abaikan dan tutup notifikasi tersebut."
      ],
      "metadata": {
        "id": "VuoGQ8WEH7q9"
      }
    },
    {
      "cell_type": "code",
      "execution_count": null,
      "metadata": {
        "id": "mnwZW5O6Ef9k"
      },
      "outputs": [],
      "source": [
        "!pip install -q condacolab\n",
        "import condacolab\n",
        "condacolab.install()"
      ]
    },
    {
      "cell_type": "markdown",
      "source": [
        "Selanjutnya, cek apakah instalasi CondaColab telah berhasil. Pastikan hasil yang muncul adalah **Everything looks OK!**."
      ],
      "metadata": {
        "id": "geNq8jt2cE1M"
      }
    },
    {
      "cell_type": "code",
      "source": [
        "import condacolab\n",
        "condacolab.check()"
      ],
      "metadata": {
        "id": "HS7GV_KScFm1"
      },
      "execution_count": null,
      "outputs": []
    },
    {
      "cell_type": "markdown",
      "source": [
        "Langkah berikutnya adalah menginstal modul-modul Python yang diperlukan. Proses ini memerlukan waktu yang agak lama. Tunggulah hingga proses selesai."
      ],
      "metadata": {
        "id": "AXorCsqxcL3f"
      }
    },
    {
      "cell_type": "code",
      "source": [
        "!mamba install verde harmonica boule pooch pygmt pyproj pandas xarray xrft ensaio pyproj rioxarray"
      ],
      "metadata": {
        "id": "Vclditr6cMpl"
      },
      "execution_count": null,
      "outputs": []
    },
    {
      "cell_type": "markdown",
      "source": [
        "Import modul-modul Python yang akan digunakan"
      ],
      "metadata": {
        "id": "NMAIpdyzdd70"
      }
    },
    {
      "cell_type": "code",
      "source": [
        "# The standard Python science stack\n",
        "import numpy as np\n",
        "import pandas as pd\n",
        "import xarray as xr\n",
        "import rioxarray as rxr\n",
        "import xrft\n",
        "import datetime\n",
        "from scipy import signal\n",
        "from google.colab import files\n",
        "\n",
        "# For projections (wrapped for Proj)\n",
        "import pyproj\n",
        "from pyproj import Geod\n",
        "\n",
        "# Plotting maps using GMT\n",
        "import pygmt\n",
        "\n",
        "# The Fatiando stack\n",
        "import pooch\n",
        "import verde as vd\n",
        "import boule as bl\n",
        "import harmonica as hm"
      ],
      "metadata": {
        "id": "OtfAvuU2JtmM"
      },
      "execution_count": null,
      "outputs": []
    },
    {
      "cell_type": "markdown",
      "source": [
        "Data magnet bumi yang akan digunakan dalam pelatihan ini telah diupload di Github. Untuk mengunduhnya kita gunakan modul Pooch. Terdapat 8 file yang tersedia, pilihlah sesuai dengan kelompok anda."
      ],
      "metadata": {
        "id": "zHg6xnV3KF_V"
      }
    },
    {
      "cell_type": "code",
      "source": [
        "url_mag = 'https://raw.githubusercontent.com/ragabhumi/Praktikum_Magnetbumi_STMKG/main/data/EMAG2v3_area1.csv'\n",
        "path_mag = pooch.retrieve(url_mag, known_hash=None)\n",
        "print(path_mag)"
      ],
      "metadata": {
        "id": "IzF5YSy5KIa1"
      },
      "execution_count": null,
      "outputs": []
    },
    {
      "cell_type": "markdown",
      "source": [
        "Selanjutnya, data model magnet bumi dengan format csv kita parsing menggunakan modul Pandas dan diberikan nama untuk setiap kolomnya."
      ],
      "metadata": {
        "id": "4Uti3HhrK90N"
      }
    },
    {
      "cell_type": "code",
      "source": [
        "data = pd.read_csv(path_mag, sep=' ', names=['i', 'j', 'Longitude', 'Latitude', 'Sealevel', 'UpCont', 'Code', 'Error'])\n",
        "data"
      ],
      "metadata": {
        "id": "2hITHCKZLFZC"
      },
      "execution_count": null,
      "outputs": []
    },
    {
      "cell_type": "markdown",
      "source": [
        "Pada data yang kita gunakan, terdapat beberapa titik yang datanya ambigu maupun titik yang tidak ada data. Titik yang datanya ambigu diberikan kode 888 dan nilainya -888 nT, sedangkan titik yang tidak ada data diberikan kode 999 dan nilainya 99999 nT. Sehingga titik-titik tersebut harus kita hilangkan."
      ],
      "metadata": {
        "id": "qxMwESOPQXzY"
      }
    },
    {
      "cell_type": "code",
      "source": [
        "data = data[(data['Code'] != 888) & (data['Code'] != 999)]\n",
        "data"
      ],
      "metadata": {
        "id": "g2AwckVfQ-1p"
      },
      "execution_count": null,
      "outputs": []
    },
    {
      "cell_type": "markdown",
      "source": [
        "Kita tampilkan titik-titik grid model magnet."
      ],
      "metadata": {
        "id": "ZVHsQro0MFNZ"
      }
    },
    {
      "cell_type": "code",
      "source": [
        "# Kita atur batas koordinat sesuai dengan batasan data kita\n",
        "lon_min = data['Longitude'].min()\n",
        "lon_max = data['Longitude'].max()\n",
        "lat_min = data['Latitude'].min()\n",
        "lat_max = data['Latitude'].max()\n",
        "\n",
        "fig = pygmt.Figure()\n",
        "fig.basemap(projection='M20', region=[lon_min, lon_max, lat_min, lat_max], frame=True)\n",
        "fig.coast(resolution='f', shorelines='2p,black,solid')\n",
        "fig.plot(x=data['Longitude'], y=data['Latitude'],\n",
        "    style=\"c0.1c\",\n",
        "    fill=\"red\",\n",
        "    pen=\"faint\")\n",
        "fig.show()"
      ],
      "metadata": {
        "id": "xn5Far45Mf8T"
      },
      "execution_count": null,
      "outputs": []
    },
    {
      "cell_type": "markdown",
      "source": [
        "Menampilkan peta model anomali magnet bumi dalam bentuk kontur. Pertama, kita interpolasikan dahulu data txt menjadi data grid."
      ],
      "metadata": {
        "id": "2HwRbXw-N9Xg"
      }
    },
    {
      "cell_type": "code",
      "source": [
        "pre_data = pygmt.blockmean(x=data['Longitude'], y=data['Latitude'], z=data['UpCont'], region=[lon_min, lon_max, lat_min, lat_max], spacing='1m')\n",
        "data_grid = pygmt.surface(pre_data, region=[lon_min, lon_max, lat_min, lat_max], spacing='1m')\n",
        "data_grid"
      ],
      "metadata": {
        "id": "trW4uBj3OD4e"
      },
      "execution_count": null,
      "outputs": []
    },
    {
      "cell_type": "markdown",
      "source": [
        "Kita tampilkan peta konturnya menggunakan PyGMT."
      ],
      "metadata": {
        "id": "ApxcbAvDOhr2"
      }
    },
    {
      "cell_type": "code",
      "source": [
        "fig = pygmt.Figure()\n",
        "pygmt.makecpt(cmap=\"seis+h\", reverse=True, series=[data_grid.min().values, data_grid.max().values], background=True)\n",
        "fig.basemap(projection='M20', region=[lon_min, lon_max, lat_min, lat_max], frame=True)\n",
        "fig.grdimage(grid=data_grid, cmap=True)\n",
        "fig.coast(resolution='f', shorelines='2p,black,solid')\n",
        "fig.grdcontour(grid=data_grid, interval=50, annotation=50)\n",
        "\n",
        "# Add colorbar\n",
        "fig.colorbar(frame='af+l\"Peta Anomali Medan Magnet (nT)\"', position=\"JBC+h+o0/1c+e\")\n",
        "fig.show()"
      ],
      "metadata": {
        "id": "Xw7--_61OtLm"
      },
      "execution_count": null,
      "outputs": []
    },
    {
      "cell_type": "markdown",
      "source": [
        "Buat slice atau irisan melintang dari data anomali medan magnet total dengan memasukkan koordinat awal dan akhir dari garis slicenya"
      ],
      "metadata": {
        "id": "j0g_Y9Qtl5cG"
      }
    },
    {
      "cell_type": "code",
      "source": [
        "min_lon = 107\n",
        "max_lon = 107\n",
        "min_lat = -9\n",
        "max_lat = -5\n",
        "lon_inc = 0.01 # interval sampling longitude\n",
        "lat_inc = 0.01 # interval sampling latitude\n",
        "\n",
        "if min_lon != max_lon:\n",
        "  x = xr.DataArray(np.arange(min_lon, max_lon, lon_inc).tolist(), dims=['location'])\n",
        "else:\n",
        "  x = xr.DataArray([min_lon]*int((max_lat-min_lat)/lat_inc), dims=['location'])\n",
        "\n",
        "if min_lat != max_lat:\n",
        "  y = xr.DataArray(np.arange(min_lat, max_lat, lat_inc).tolist(), dims=['location'])\n",
        "else:\n",
        "  y = xr.DataArray([min_lat]*int((max_lon-min_lon)/lon_inc), dims=['location'])\n",
        "\n",
        "SlicedData = data_grid.sel(lon=x, lat=y, method='nearest')\n",
        "SlicedData"
      ],
      "metadata": {
        "id": "RWolH8fuWxRE"
      },
      "execution_count": null,
      "outputs": []
    },
    {
      "cell_type": "markdown",
      "source": [
        "Tampilkan lokasi garis slice nya"
      ],
      "metadata": {
        "id": "-mOGei7Jy6hj"
      }
    },
    {
      "cell_type": "code",
      "source": [
        "fig = pygmt.Figure()\n",
        "pygmt.makecpt(cmap=\"seis+h\", reverse=True, series=[data_grid.min().values, data_grid.max().values], background=True)\n",
        "fig.basemap(projection='M20', region=[lon_min, lon_max, lat_min, lat_max], frame=True)\n",
        "fig.grdimage(grid=data_grid, cmap=True)\n",
        "fig.coast(resolution='f', shorelines='2p,black,solid')\n",
        "fig.grdcontour(grid=data_grid, interval=50, annotation=50)\n",
        "\n",
        "fig.plot(x=[min_lon, max_lon], y=[min_lat, max_lat], pen='2p,red')\n",
        "fig.text(text='A', x=min_lon, y=min_lat, font='14p', offset='0.2/0')\n",
        "fig.text(text='B', x=max_lon, y=max_lat, font='14p', offset='0.2/0')\n",
        "\n",
        "\n",
        "# Add colorbar\n",
        "fig.colorbar(frame='af+l\"Peta Anomali Medan Magnet (nT)\"', position=\"JBC+h+o0/1c+e\")\n",
        "fig.show()"
      ],
      "metadata": {
        "id": "otb0gWWwy4Bk"
      },
      "execution_count": null,
      "outputs": []
    },
    {
      "cell_type": "markdown",
      "source": [
        "Buat variabel data, lintang, dan bujur dari data hasil slice"
      ],
      "metadata": {
        "id": "ysn1E1L7mCO9"
      }
    },
    {
      "cell_type": "markdown",
      "source": [],
      "metadata": {
        "id": "ZOFhd_2wl4Vb"
      }
    },
    {
      "cell_type": "code",
      "source": [
        "mag_data = SlicedData.to_numpy()\n",
        "lat_data = SlicedData.lat.to_numpy()\n",
        "lon_data = SlicedData.lon.to_numpy()"
      ],
      "metadata": {
        "id": "LW7HGvb6huhV"
      },
      "execution_count": null,
      "outputs": []
    },
    {
      "cell_type": "markdown",
      "source": [
        "Hitung jarak setiap data dari koordinat awal dalam meter"
      ],
      "metadata": {
        "id": "Uc2cA-CRmIGD"
      }
    },
    {
      "cell_type": "code",
      "source": [
        "g = Geod(ellps='WGS84')\n",
        "distance = []\n",
        "for i in range(len(mag_data)):\n",
        "  azimuth1, azimuth2, distance_2d = g.inv(lon_data[0], lat_data[0], lon_data[i], lat_data[i])\n",
        "  distance += [distance_2d]\n",
        "\n",
        "distance"
      ],
      "metadata": {
        "id": "D9aOPmwmkIOw"
      },
      "execution_count": null,
      "outputs": []
    },
    {
      "cell_type": "markdown",
      "source": [
        "Tampilkan hasil slice"
      ],
      "metadata": {
        "id": "BWgQ0ja9t7Cn"
      }
    },
    {
      "cell_type": "code",
      "source": [
        "df = pd.DataFrame({'Jarak': distance, 'Mag': mag_data})\n",
        "\n",
        "fig = pygmt.Figure()\n",
        "fig.basemap(projection='X20/10', region=[min(df['Jarak'],), max(df['Jarak'],), min(df['Mag']), max(df['Mag'])],\n",
        "            frame=[\"xafg+lJarak (m)\",\n",
        "            \"yafg+lAnomali Magnetik (nT)\",\n",
        "            \"WSen+tHasil Irisan Melintang Anomali Magnet Total\"])\n",
        "fig.plot(x=df['Jarak'], y=df['Mag'], pen='2p')\n",
        "fig.show()"
      ],
      "metadata": {
        "id": "XG04F9kht9lB"
      },
      "execution_count": null,
      "outputs": []
    },
    {
      "cell_type": "markdown",
      "source": [
        "Simpan data dalam format \".DAT\""
      ],
      "metadata": {
        "id": "Alhr21zgmRAt"
      }
    },
    {
      "cell_type": "code",
      "source": [
        "df.to_csv('slice.dat', sep=' ', index=False, lineterminator='\\r\\n')\n",
        "files.download('slice.dat')"
      ],
      "metadata": {
        "id": "EOScpkn4mPUl"
      },
      "execution_count": null,
      "outputs": []
    },
    {
      "cell_type": "markdown",
      "source": [
        "**Referensi**\n",
        "\n",
        "\n",
        "\n",
        "> Arifin, Y. I. (2019). Kemagnetan Batuan (Anisotropi Batuan Beku). UNG Press Gorontalo.\n",
        "\n",
        "> Constable, C.G., and Constable, S.C., (2004). Satellite magnetic field measurements: applications in studying the deep earth. In Sparks, R.S.J., and Hawkesworth, C.J., (eds.), The State of the Planet: Frontiers and Challenges in Geophysics. Washington, DC: American Geophysical Union, doi: 10.1029/150GM13, pp. 147–160.\n",
        "\n",
        "> Fenoglio, M. A., Johnston, M.J.S., dan Byerlee, J.D. (1995). Magnetic and Electric Fields Associated with Changes in High Pore Pressure in Fault Zone-Application to the Loma Prieta ULF Emissions, J. Geophys. Res. 100, pp 12951-12958.\n",
        "\n",
        "> Freund, F.T. (2007). Pre-Earthquake Signals-Part I: Deviatoric Stresses Turn Rocks into A Source of Electric Currents, Natural Hazards Earth System Science, pp 535-541.\n",
        "\n",
        "> Hattori, K. (2004). ULF geomagnetic changes associated with large earthquakes, Terr. Atmos. OceanSci., vol. 15,no. 3, pp. 329–360.\n",
        "\n",
        "> Ismaguilov, V. S., Kopytenko, Yu. A., Hattori, K., and Hayakawa, M. (2003). Variations of phase velocity and gradient values of ULF geomagnetic disturbances connected with the Izu strong earthquakes, Nat. Hazards Earth Syst. Sci., 3, 211–215, https://doi.org/10.5194/nhess-3-211-2003.\n",
        "\n",
        "> Kolhatkar, A., Jamison, A., Litvinov, D., Willson, R., & Lee, T. (2013). Tuning the Magnetic Properties of Nanoparticles. International Journal of Molecular Sciences, 14(8), 15977–16009. MDPI AG. Retrieved from http://dx.doi.org/10.3390/ijms14081597\n",
        "\n",
        "> Kopytenko, Y. & Ismagilov, V. & Hayakawa, Masashi & Smirnova, N. & Troyan, V. & Peterson, T.. (2001). Investigation of the ULF electromagnetic phenomena related to earthquakes: Contemporary achievements and the perspectives. Annali di Geofisica. 44. 325-334.\n",
        "\n",
        "> Merzer, M., dan Klemperer, S.L. (1997). Modelling Low-Frequency Magnetik Field Prekursors to the Loma Prieta Earthquake with A Prekursory Increase in Fault Zone Conductivity, Pure Applied Geophysics, Vol. 150, pp 217-248.\n",
        "\n",
        "> Molchanov, O.A., dan Hayakawa, M. (1998). On the Generation Mechanism of ULF Seismogenic Emissions, Physics Earth Planet International, Vol. 105, pp 210-210.\n",
        "\n",
        "> Nettleton, L. L. (1962). Gravity and Magnetics for Geologists and Seismologists. AAPG Bulletin, Vol. 46, No. 10, pp. 1815-1838\n",
        "\n",
        "> Ravat, D. (2007). Reduction to Pole. In: Gubbins, D., Herrero-Bervera, E. (eds) Encyclopedia of Geomagnetism and Paleomagnetism. Springer, Dordrecht. https://doi.org/10.1007/978-1-4020-4423-6_275\n",
        "\n",
        "> Santosa, Bagus J., Mashuri, Sutrisno, Wahyu T., Wafi, A., Salim, R., dan Armi, R. (2012). Interpretasi Metode Magnetik untuk Penentuan Struktur Bawah Permukaan di Sekitar Gunung Kelud Kabupaten Kediri. Jurnal Penelitian Fisika dan Aplikasinya (JPFA), Vol. 2 No. 1, Juni 2012. ISSN: 2087-9946.\n",
        "\n",
        "> Uieda, L., V. C. Oliveira Jr, and V. C. F. Barbosa (2013), Modeling the Earth with Fatiando a Terra, Proceedings of the 12th Python in Science Conference, pp. 91-98. doi:10.25080/Majora-8b375195-010\n",
        "\n",
        "> Uieda, L., Tian, D., Leong, W. J., Schlitzer, W., Grund, M., Jones, M., Fröhlich, Y., Toney, L., Yao, J., Magen, Y., Tong, JH., Materna, K., Belem, A., Newton, T., Anant, A., Ziebarth, M., Quinn, J., and Wessel, P. (2023). PyGMT: A Python interface for the Generic Mapping Tools (Version 0.9.0). doi:10.5281/zenodo.7772533"
      ],
      "metadata": {
        "id": "gM_UQjV8NJET"
      }
    }
  ]
}